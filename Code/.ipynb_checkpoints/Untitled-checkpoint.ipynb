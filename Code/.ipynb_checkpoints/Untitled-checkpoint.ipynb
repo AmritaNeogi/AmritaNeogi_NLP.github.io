{
 "cells": [
  {
   "cell_type": "markdown",
   "id": "fa59e6a5",
   "metadata": {},
   "source": [
    "NER using SpaCy"
   ]
  },
  {
   "cell_type": "code",
   "execution_count": 1,
   "id": "50ae1656",
   "metadata": {},
   "outputs": [
    {
     "name": "stdout",
     "output_type": "stream",
     "text": [
      "Amrita Neogi\n"
     ]
    }
   ],
   "source": [
    "print (\"Amrita Neogi\")"
   ]
  }
 ],
 "metadata": {
  "kernelspec": {
   "display_name": "Python 3 (ipykernel)",
   "language": "python",
   "name": "python3"
  },
  "language_info": {
   "codemirror_mode": {
    "name": "ipython",
    "version": 3
   },
   "file_extension": ".py",
   "mimetype": "text/x-python",
   "name": "python",
   "nbconvert_exporter": "python",
   "pygments_lexer": "ipython3",
   "version": "3.9.12"
  }
 },
 "nbformat": 4,
 "nbformat_minor": 5
}
